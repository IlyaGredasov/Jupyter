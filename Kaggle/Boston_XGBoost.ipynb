{
 "cells": [
  {
   "metadata": {
    "collapsed": true,
    "ExecuteTime": {
     "end_time": "2025-04-16T11:33:31.783041Z",
     "start_time": "2025-04-16T11:33:31.774330Z"
    }
   },
   "cell_type": "code",
   "source": [
    "import pandas as pd\n",
    "import xgboost as xgb"
   ],
   "id": "initial_id",
   "outputs": [],
   "execution_count": 10
  },
  {
   "metadata": {
    "ExecuteTime": {
     "end_time": "2025-04-16T11:33:31.848672Z",
     "start_time": "2025-04-16T11:33:31.839665Z"
    }
   },
   "cell_type": "code",
   "source": [
    "df_train = pd.read_csv(\"../Datasets/Boston/train.csv\")\n",
    "df_test = pd.read_csv(\"../Datasets/Boston/test.csv\")"
   ],
   "id": "88998881d8781754",
   "outputs": [],
   "execution_count": 11
  },
  {
   "metadata": {
    "ExecuteTime": {
     "end_time": "2025-04-16T11:33:31.869792Z",
     "start_time": "2025-04-16T11:33:31.848672Z"
    }
   },
   "cell_type": "code",
   "source": "df_train.head()",
   "id": "377b149ae9d07bf0",
   "outputs": [
    {
     "data": {
      "text/plain": [
       "   ID     crim    zn  indus  chas    nox     rm   age     dis  rad  tax  \\\n",
       "0   1  0.00632  18.0   2.31     0  0.538  6.575  65.2  4.0900    1  296   \n",
       "1   2  0.02731   0.0   7.07     0  0.469  6.421  78.9  4.9671    2  242   \n",
       "2   4  0.03237   0.0   2.18     0  0.458  6.998  45.8  6.0622    3  222   \n",
       "3   5  0.06905   0.0   2.18     0  0.458  7.147  54.2  6.0622    3  222   \n",
       "4   7  0.08829  12.5   7.87     0  0.524  6.012  66.6  5.5605    5  311   \n",
       "\n",
       "   ptratio   black  lstat  medv  \n",
       "0     15.3  396.90   4.98  24.0  \n",
       "1     17.8  396.90   9.14  21.6  \n",
       "2     18.7  394.63   2.94  33.4  \n",
       "3     18.7  396.90   5.33  36.2  \n",
       "4     15.2  395.60  12.43  22.9  "
      ],
      "text/html": [
       "<div>\n",
       "<style scoped>\n",
       "    .dataframe tbody tr th:only-of-type {\n",
       "        vertical-align: middle;\n",
       "    }\n",
       "\n",
       "    .dataframe tbody tr th {\n",
       "        vertical-align: top;\n",
       "    }\n",
       "\n",
       "    .dataframe thead th {\n",
       "        text-align: right;\n",
       "    }\n",
       "</style>\n",
       "<table border=\"1\" class=\"dataframe\">\n",
       "  <thead>\n",
       "    <tr style=\"text-align: right;\">\n",
       "      <th></th>\n",
       "      <th>ID</th>\n",
       "      <th>crim</th>\n",
       "      <th>zn</th>\n",
       "      <th>indus</th>\n",
       "      <th>chas</th>\n",
       "      <th>nox</th>\n",
       "      <th>rm</th>\n",
       "      <th>age</th>\n",
       "      <th>dis</th>\n",
       "      <th>rad</th>\n",
       "      <th>tax</th>\n",
       "      <th>ptratio</th>\n",
       "      <th>black</th>\n",
       "      <th>lstat</th>\n",
       "      <th>medv</th>\n",
       "    </tr>\n",
       "  </thead>\n",
       "  <tbody>\n",
       "    <tr>\n",
       "      <th>0</th>\n",
       "      <td>1</td>\n",
       "      <td>0.00632</td>\n",
       "      <td>18.0</td>\n",
       "      <td>2.31</td>\n",
       "      <td>0</td>\n",
       "      <td>0.538</td>\n",
       "      <td>6.575</td>\n",
       "      <td>65.2</td>\n",
       "      <td>4.0900</td>\n",
       "      <td>1</td>\n",
       "      <td>296</td>\n",
       "      <td>15.3</td>\n",
       "      <td>396.90</td>\n",
       "      <td>4.98</td>\n",
       "      <td>24.0</td>\n",
       "    </tr>\n",
       "    <tr>\n",
       "      <th>1</th>\n",
       "      <td>2</td>\n",
       "      <td>0.02731</td>\n",
       "      <td>0.0</td>\n",
       "      <td>7.07</td>\n",
       "      <td>0</td>\n",
       "      <td>0.469</td>\n",
       "      <td>6.421</td>\n",
       "      <td>78.9</td>\n",
       "      <td>4.9671</td>\n",
       "      <td>2</td>\n",
       "      <td>242</td>\n",
       "      <td>17.8</td>\n",
       "      <td>396.90</td>\n",
       "      <td>9.14</td>\n",
       "      <td>21.6</td>\n",
       "    </tr>\n",
       "    <tr>\n",
       "      <th>2</th>\n",
       "      <td>4</td>\n",
       "      <td>0.03237</td>\n",
       "      <td>0.0</td>\n",
       "      <td>2.18</td>\n",
       "      <td>0</td>\n",
       "      <td>0.458</td>\n",
       "      <td>6.998</td>\n",
       "      <td>45.8</td>\n",
       "      <td>6.0622</td>\n",
       "      <td>3</td>\n",
       "      <td>222</td>\n",
       "      <td>18.7</td>\n",
       "      <td>394.63</td>\n",
       "      <td>2.94</td>\n",
       "      <td>33.4</td>\n",
       "    </tr>\n",
       "    <tr>\n",
       "      <th>3</th>\n",
       "      <td>5</td>\n",
       "      <td>0.06905</td>\n",
       "      <td>0.0</td>\n",
       "      <td>2.18</td>\n",
       "      <td>0</td>\n",
       "      <td>0.458</td>\n",
       "      <td>7.147</td>\n",
       "      <td>54.2</td>\n",
       "      <td>6.0622</td>\n",
       "      <td>3</td>\n",
       "      <td>222</td>\n",
       "      <td>18.7</td>\n",
       "      <td>396.90</td>\n",
       "      <td>5.33</td>\n",
       "      <td>36.2</td>\n",
       "    </tr>\n",
       "    <tr>\n",
       "      <th>4</th>\n",
       "      <td>7</td>\n",
       "      <td>0.08829</td>\n",
       "      <td>12.5</td>\n",
       "      <td>7.87</td>\n",
       "      <td>0</td>\n",
       "      <td>0.524</td>\n",
       "      <td>6.012</td>\n",
       "      <td>66.6</td>\n",
       "      <td>5.5605</td>\n",
       "      <td>5</td>\n",
       "      <td>311</td>\n",
       "      <td>15.2</td>\n",
       "      <td>395.60</td>\n",
       "      <td>12.43</td>\n",
       "      <td>22.9</td>\n",
       "    </tr>\n",
       "  </tbody>\n",
       "</table>\n",
       "</div>"
      ]
     },
     "execution_count": 12,
     "metadata": {},
     "output_type": "execute_result"
    }
   ],
   "execution_count": 12
  },
  {
   "metadata": {
    "ExecuteTime": {
     "end_time": "2025-04-16T11:33:31.998681Z",
     "start_time": "2025-04-16T11:33:31.984756Z"
    }
   },
   "cell_type": "code",
   "source": "df_test.head()",
   "id": "f1ba658a2b563bb8",
   "outputs": [
    {
     "data": {
      "text/plain": [
       "   ID     crim    zn  indus  chas    nox     rm    age     dis  rad  tax  \\\n",
       "0   3  0.02729   0.0   7.07     0  0.469  7.185   61.1  4.9671    2  242   \n",
       "1   6  0.02985   0.0   2.18     0  0.458  6.430   58.7  6.0622    3  222   \n",
       "2   8  0.14455  12.5   7.87     0  0.524  6.172   96.1  5.9505    5  311   \n",
       "3   9  0.21124  12.5   7.87     0  0.524  5.631  100.0  6.0821    5  311   \n",
       "4  10  0.17004  12.5   7.87     0  0.524  6.004   85.9  6.5921    5  311   \n",
       "\n",
       "   ptratio   black  lstat  \n",
       "0     17.8  392.83   4.03  \n",
       "1     18.7  394.12   5.21  \n",
       "2     15.2  396.90  19.15  \n",
       "3     15.2  386.63  29.93  \n",
       "4     15.2  386.71  17.10  "
      ],
      "text/html": [
       "<div>\n",
       "<style scoped>\n",
       "    .dataframe tbody tr th:only-of-type {\n",
       "        vertical-align: middle;\n",
       "    }\n",
       "\n",
       "    .dataframe tbody tr th {\n",
       "        vertical-align: top;\n",
       "    }\n",
       "\n",
       "    .dataframe thead th {\n",
       "        text-align: right;\n",
       "    }\n",
       "</style>\n",
       "<table border=\"1\" class=\"dataframe\">\n",
       "  <thead>\n",
       "    <tr style=\"text-align: right;\">\n",
       "      <th></th>\n",
       "      <th>ID</th>\n",
       "      <th>crim</th>\n",
       "      <th>zn</th>\n",
       "      <th>indus</th>\n",
       "      <th>chas</th>\n",
       "      <th>nox</th>\n",
       "      <th>rm</th>\n",
       "      <th>age</th>\n",
       "      <th>dis</th>\n",
       "      <th>rad</th>\n",
       "      <th>tax</th>\n",
       "      <th>ptratio</th>\n",
       "      <th>black</th>\n",
       "      <th>lstat</th>\n",
       "    </tr>\n",
       "  </thead>\n",
       "  <tbody>\n",
       "    <tr>\n",
       "      <th>0</th>\n",
       "      <td>3</td>\n",
       "      <td>0.02729</td>\n",
       "      <td>0.0</td>\n",
       "      <td>7.07</td>\n",
       "      <td>0</td>\n",
       "      <td>0.469</td>\n",
       "      <td>7.185</td>\n",
       "      <td>61.1</td>\n",
       "      <td>4.9671</td>\n",
       "      <td>2</td>\n",
       "      <td>242</td>\n",
       "      <td>17.8</td>\n",
       "      <td>392.83</td>\n",
       "      <td>4.03</td>\n",
       "    </tr>\n",
       "    <tr>\n",
       "      <th>1</th>\n",
       "      <td>6</td>\n",
       "      <td>0.02985</td>\n",
       "      <td>0.0</td>\n",
       "      <td>2.18</td>\n",
       "      <td>0</td>\n",
       "      <td>0.458</td>\n",
       "      <td>6.430</td>\n",
       "      <td>58.7</td>\n",
       "      <td>6.0622</td>\n",
       "      <td>3</td>\n",
       "      <td>222</td>\n",
       "      <td>18.7</td>\n",
       "      <td>394.12</td>\n",
       "      <td>5.21</td>\n",
       "    </tr>\n",
       "    <tr>\n",
       "      <th>2</th>\n",
       "      <td>8</td>\n",
       "      <td>0.14455</td>\n",
       "      <td>12.5</td>\n",
       "      <td>7.87</td>\n",
       "      <td>0</td>\n",
       "      <td>0.524</td>\n",
       "      <td>6.172</td>\n",
       "      <td>96.1</td>\n",
       "      <td>5.9505</td>\n",
       "      <td>5</td>\n",
       "      <td>311</td>\n",
       "      <td>15.2</td>\n",
       "      <td>396.90</td>\n",
       "      <td>19.15</td>\n",
       "    </tr>\n",
       "    <tr>\n",
       "      <th>3</th>\n",
       "      <td>9</td>\n",
       "      <td>0.21124</td>\n",
       "      <td>12.5</td>\n",
       "      <td>7.87</td>\n",
       "      <td>0</td>\n",
       "      <td>0.524</td>\n",
       "      <td>5.631</td>\n",
       "      <td>100.0</td>\n",
       "      <td>6.0821</td>\n",
       "      <td>5</td>\n",
       "      <td>311</td>\n",
       "      <td>15.2</td>\n",
       "      <td>386.63</td>\n",
       "      <td>29.93</td>\n",
       "    </tr>\n",
       "    <tr>\n",
       "      <th>4</th>\n",
       "      <td>10</td>\n",
       "      <td>0.17004</td>\n",
       "      <td>12.5</td>\n",
       "      <td>7.87</td>\n",
       "      <td>0</td>\n",
       "      <td>0.524</td>\n",
       "      <td>6.004</td>\n",
       "      <td>85.9</td>\n",
       "      <td>6.5921</td>\n",
       "      <td>5</td>\n",
       "      <td>311</td>\n",
       "      <td>15.2</td>\n",
       "      <td>386.71</td>\n",
       "      <td>17.10</td>\n",
       "    </tr>\n",
       "  </tbody>\n",
       "</table>\n",
       "</div>"
      ]
     },
     "execution_count": 13,
     "metadata": {},
     "output_type": "execute_result"
    }
   ],
   "execution_count": 13
  },
  {
   "metadata": {
    "ExecuteTime": {
     "end_time": "2025-04-16T11:33:32.087544Z",
     "start_time": "2025-04-16T11:33:32.081500Z"
    }
   },
   "cell_type": "code",
   "source": [
    "df_train = df_train.drop(columns=[\"ID\"])\n",
    "df_test_index = df_test['ID']\n",
    "df_test = df_test.drop(columns=[\"ID\"])"
   ],
   "id": "8d8373bae8ee783",
   "outputs": [],
   "execution_count": 14
  },
  {
   "metadata": {
    "ExecuteTime": {
     "end_time": "2025-04-16T11:34:47.403390Z",
     "start_time": "2025-04-16T11:33:32.152883Z"
    }
   },
   "cell_type": "code",
   "source": [
    "from sklearn.model_selection import GridSearchCV\n",
    "Y_train = df_train[\"medv\"]\n",
    "X_train = df_train.drop(columns=[\"medv\"])\n",
    "\n",
    "clf = xgb.XGBRFRegressor(objective=\"reg:squarederror\", tree_method=\"hist\", device=\"cuda\", random_state=42)\n",
    "\n",
    "param_grid = {\n",
    "    \"colsample_bynode\": [0.6, 0.8, 1.0],\n",
    "    \"learning_rate\": [0.5, 1],\n",
    "    \"max_depth\": [4, 5, 6],\n",
    "    \"subsample\": [0.6, 0.8]\n",
    "}\n",
    "\n",
    "grid_search = GridSearchCV(\n",
    "    estimator=clf,\n",
    "    param_grid=param_grid,\n",
    "    scoring=\"neg_root_mean_squared_error\",\n",
    "    cv=4,\n",
    "    verbose=2,\n",
    "    n_jobs=-1\n",
    ")\n",
    "\n",
    "grid_search.fit(X_train, Y_train)\n",
    "clf = grid_search.best_estimator_"
   ],
   "id": "ee61c7cb9ea7240",
   "outputs": [
    {
     "name": "stdout",
     "output_type": "stream",
     "text": [
      "Fitting 4 folds for each of 36 candidates, totalling 144 fits\n"
     ]
    }
   ],
   "execution_count": 15
  },
  {
   "metadata": {
    "ExecuteTime": {
     "end_time": "2025-04-16T11:34:47.470503Z",
     "start_time": "2025-04-16T11:34:47.452394Z"
    }
   },
   "cell_type": "code",
   "source": [
    "X_test = df_test\n",
    "clf.predict(X_test)"
   ],
   "id": "36dbe786cf68f170",
   "outputs": [
    {
     "data": {
      "text/plain": [
       "array([36.143673 , 25.145462 , 16.49951  , 15.913993 , 17.424507 ,\n",
       "       19.729548 , 20.50132  , 16.119274 , 16.115768 , 19.059137 ,\n",
       "       19.70028  , 21.365854 , 16.664747 , 15.549736 , 22.147    ,\n",
       "       21.32845  , 22.698181 , 27.952225 , 17.676481 , 24.319485 ,\n",
       "       22.157764 , 23.571978 , 22.386642 , 21.69418  , 21.022741 ,\n",
       "       22.557632 , 23.54497  , 23.33822  , 23.310957 , 26.754623 ,\n",
       "       43.475563 , 42.915054 , 30.708666 , 20.26482  , 17.134865 ,\n",
       "       20.510298 , 17.947678 , 16.99346  , 19.362064 , 19.87383  ,\n",
       "       15.918743 , 20.099644 , 20.653933 , 16.355145 , 15.759844 ,\n",
       "       14.661752 , 14.796305 , 15.619041 , 20.44046  , 20.613918 ,\n",
       "       17.3735   , 30.856888 , 48.67301  , 20.831343 , 22.766087 ,\n",
       "       23.605547 , 29.076847 , 47.990532 , 37.276436 , 32.740414 ,\n",
       "       33.255135 , 45.077168 , 19.720808 , 17.714916 , 18.98671  ,\n",
       "       20.946457 , 23.451227 , 22.871063 , 17.680443 , 21.197975 ,\n",
       "       30.011538 , 44.57713  , 36.498085 , 37.55873  , 23.70594  ,\n",
       "       26.021029 , 21.372417 , 18.99952  , 21.42345  , 33.48283  ,\n",
       "       22.658648 , 21.82603  , 39.745995 , 44.328392 , 35.300865 ,\n",
       "       29.448706 , 42.904694 , 21.346985 , 20.88826  , 30.863577 ,\n",
       "       33.10791  , 29.940323 , 23.743446 , 46.101715 , 23.574642 ,\n",
       "       25.432446 , 36.715683 , 21.413157 , 26.296974 , 25.60557  ,\n",
       "       34.6136   , 28.720743 , 28.812845 , 22.833246 , 24.096588 ,\n",
       "       20.636433 , 23.666283 , 23.157585 , 20.702726 , 23.715906 ,\n",
       "       23.287632 , 20.58535  , 22.348537 , 21.596848 , 20.720774 ,\n",
       "       21.110487 , 20.360249 , 22.98821  , 26.913334 , 30.809895 ,\n",
       "       21.801277 , 22.726759 , 19.965065 , 18.611818 , 38.406475 ,\n",
       "       34.26168  , 23.500887 , 12.458069 , 12.502    , 18.526108 ,\n",
       "       11.666277 ,  8.890265 ,  9.02607  , 14.229855 , 15.799698 ,\n",
       "       13.339958 , 13.051312 , 11.306958 , 12.047876 ,  8.4443245,\n",
       "        8.893381 , 14.194837 , 14.593324 , 19.403595 , 13.471674 ,\n",
       "       13.238227 , 10.79639  , 15.549103 , 17.105774 , 20.420681 ,\n",
       "       15.01232  , 16.168058 , 15.447811 , 12.079895 , 11.990678 ,\n",
       "        9.24362  , 15.653588 , 15.2949295, 15.258275 , 14.451287 ,\n",
       "       15.516218 , 17.100935 , 27.891905 , 15.162344 , 31.017918 ,\n",
       "       20.863792 , 13.569138 , 20.513832 , 18.359188 , 17.549194 ,\n",
       "       20.532646 , 20.138046 , 25.360819 ], dtype=float32)"
      ]
     },
     "execution_count": 16,
     "metadata": {},
     "output_type": "execute_result"
    }
   ],
   "execution_count": 16
  },
  {
   "metadata": {
    "ExecuteTime": {
     "end_time": "2025-04-16T11:34:47.489230Z",
     "start_time": "2025-04-16T11:34:47.470503Z"
    }
   },
   "cell_type": "code",
   "source": [
    "answer = pd.DataFrame(clf.predict(X_test), index=df_test_index, columns=[\"medv\"])\n",
    "answer.index.name = \"ID\"\n"
   ],
   "id": "1b39782c49ca479d",
   "outputs": [],
   "execution_count": 17
  },
  {
   "metadata": {
    "ExecuteTime": {
     "end_time": "2025-04-16T11:34:47.542326Z",
     "start_time": "2025-04-16T11:34:47.531538Z"
    }
   },
   "cell_type": "code",
   "source": "answer.to_csv(\"answer.csv\")",
   "id": "7552f60659b5054f",
   "outputs": [],
   "execution_count": 18
  }
 ],
 "metadata": {
  "kernelspec": {
   "display_name": "Python 3",
   "language": "python",
   "name": "python3"
  },
  "language_info": {
   "codemirror_mode": {
    "name": "ipython",
    "version": 2
   },
   "file_extension": ".py",
   "mimetype": "text/x-python",
   "name": "python",
   "nbconvert_exporter": "python",
   "pygments_lexer": "ipython2",
   "version": "2.7.6"
  }
 },
 "nbformat": 4,
 "nbformat_minor": 5
}
