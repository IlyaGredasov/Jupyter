{
 "cells": [
  {
   "metadata": {},
   "cell_type": "markdown",
   "source": "https://www.kaggle.com/competitions/boston-housing/overview",
   "id": "341d8a2efb958670"
  },
  {
   "metadata": {
    "collapsed": true,
    "ExecuteTime": {
     "end_time": "2025-05-01T03:08:28.189208Z",
     "start_time": "2025-05-01T03:08:26.886202Z"
    }
   },
   "cell_type": "code",
   "source": [
    "import pandas as pd\n",
    "import xgboost as xgb"
   ],
   "id": "initial_id",
   "outputs": [],
   "execution_count": 1
  },
  {
   "metadata": {
    "ExecuteTime": {
     "end_time": "2025-05-01T03:08:28.422530Z",
     "start_time": "2025-05-01T03:08:28.388633Z"
    }
   },
   "cell_type": "code",
   "source": [
    "df_train = pd.read_csv(\"../Datasets/Boston/train.csv\")\n",
    "df_test = pd.read_csv(\"../Datasets/Boston/test.csv\")"
   ],
   "id": "88998881d8781754",
   "outputs": [],
   "execution_count": 2
  },
  {
   "metadata": {
    "ExecuteTime": {
     "end_time": "2025-05-01T03:08:28.475935Z",
     "start_time": "2025-05-01T03:08:28.456917Z"
    }
   },
   "cell_type": "code",
   "source": "df_train.head()",
   "id": "377b149ae9d07bf0",
   "outputs": [
    {
     "data": {
      "text/plain": [
       "   ID     crim    zn  indus  chas    nox     rm   age     dis  rad  tax  \\\n",
       "0   1  0.00632  18.0   2.31     0  0.538  6.575  65.2  4.0900    1  296   \n",
       "1   2  0.02731   0.0   7.07     0  0.469  6.421  78.9  4.9671    2  242   \n",
       "2   4  0.03237   0.0   2.18     0  0.458  6.998  45.8  6.0622    3  222   \n",
       "3   5  0.06905   0.0   2.18     0  0.458  7.147  54.2  6.0622    3  222   \n",
       "4   7  0.08829  12.5   7.87     0  0.524  6.012  66.6  5.5605    5  311   \n",
       "\n",
       "   ptratio   black  lstat  medv  \n",
       "0     15.3  396.90   4.98  24.0  \n",
       "1     17.8  396.90   9.14  21.6  \n",
       "2     18.7  394.63   2.94  33.4  \n",
       "3     18.7  396.90   5.33  36.2  \n",
       "4     15.2  395.60  12.43  22.9  "
      ],
      "text/html": [
       "<div>\n",
       "<style scoped>\n",
       "    .dataframe tbody tr th:only-of-type {\n",
       "        vertical-align: middle;\n",
       "    }\n",
       "\n",
       "    .dataframe tbody tr th {\n",
       "        vertical-align: top;\n",
       "    }\n",
       "\n",
       "    .dataframe thead th {\n",
       "        text-align: right;\n",
       "    }\n",
       "</style>\n",
       "<table border=\"1\" class=\"dataframe\">\n",
       "  <thead>\n",
       "    <tr style=\"text-align: right;\">\n",
       "      <th></th>\n",
       "      <th>ID</th>\n",
       "      <th>crim</th>\n",
       "      <th>zn</th>\n",
       "      <th>indus</th>\n",
       "      <th>chas</th>\n",
       "      <th>nox</th>\n",
       "      <th>rm</th>\n",
       "      <th>age</th>\n",
       "      <th>dis</th>\n",
       "      <th>rad</th>\n",
       "      <th>tax</th>\n",
       "      <th>ptratio</th>\n",
       "      <th>black</th>\n",
       "      <th>lstat</th>\n",
       "      <th>medv</th>\n",
       "    </tr>\n",
       "  </thead>\n",
       "  <tbody>\n",
       "    <tr>\n",
       "      <th>0</th>\n",
       "      <td>1</td>\n",
       "      <td>0.00632</td>\n",
       "      <td>18.0</td>\n",
       "      <td>2.31</td>\n",
       "      <td>0</td>\n",
       "      <td>0.538</td>\n",
       "      <td>6.575</td>\n",
       "      <td>65.2</td>\n",
       "      <td>4.0900</td>\n",
       "      <td>1</td>\n",
       "      <td>296</td>\n",
       "      <td>15.3</td>\n",
       "      <td>396.90</td>\n",
       "      <td>4.98</td>\n",
       "      <td>24.0</td>\n",
       "    </tr>\n",
       "    <tr>\n",
       "      <th>1</th>\n",
       "      <td>2</td>\n",
       "      <td>0.02731</td>\n",
       "      <td>0.0</td>\n",
       "      <td>7.07</td>\n",
       "      <td>0</td>\n",
       "      <td>0.469</td>\n",
       "      <td>6.421</td>\n",
       "      <td>78.9</td>\n",
       "      <td>4.9671</td>\n",
       "      <td>2</td>\n",
       "      <td>242</td>\n",
       "      <td>17.8</td>\n",
       "      <td>396.90</td>\n",
       "      <td>9.14</td>\n",
       "      <td>21.6</td>\n",
       "    </tr>\n",
       "    <tr>\n",
       "      <th>2</th>\n",
       "      <td>4</td>\n",
       "      <td>0.03237</td>\n",
       "      <td>0.0</td>\n",
       "      <td>2.18</td>\n",
       "      <td>0</td>\n",
       "      <td>0.458</td>\n",
       "      <td>6.998</td>\n",
       "      <td>45.8</td>\n",
       "      <td>6.0622</td>\n",
       "      <td>3</td>\n",
       "      <td>222</td>\n",
       "      <td>18.7</td>\n",
       "      <td>394.63</td>\n",
       "      <td>2.94</td>\n",
       "      <td>33.4</td>\n",
       "    </tr>\n",
       "    <tr>\n",
       "      <th>3</th>\n",
       "      <td>5</td>\n",
       "      <td>0.06905</td>\n",
       "      <td>0.0</td>\n",
       "      <td>2.18</td>\n",
       "      <td>0</td>\n",
       "      <td>0.458</td>\n",
       "      <td>7.147</td>\n",
       "      <td>54.2</td>\n",
       "      <td>6.0622</td>\n",
       "      <td>3</td>\n",
       "      <td>222</td>\n",
       "      <td>18.7</td>\n",
       "      <td>396.90</td>\n",
       "      <td>5.33</td>\n",
       "      <td>36.2</td>\n",
       "    </tr>\n",
       "    <tr>\n",
       "      <th>4</th>\n",
       "      <td>7</td>\n",
       "      <td>0.08829</td>\n",
       "      <td>12.5</td>\n",
       "      <td>7.87</td>\n",
       "      <td>0</td>\n",
       "      <td>0.524</td>\n",
       "      <td>6.012</td>\n",
       "      <td>66.6</td>\n",
       "      <td>5.5605</td>\n",
       "      <td>5</td>\n",
       "      <td>311</td>\n",
       "      <td>15.2</td>\n",
       "      <td>395.60</td>\n",
       "      <td>12.43</td>\n",
       "      <td>22.9</td>\n",
       "    </tr>\n",
       "  </tbody>\n",
       "</table>\n",
       "</div>"
      ]
     },
     "execution_count": 3,
     "metadata": {},
     "output_type": "execute_result"
    }
   ],
   "execution_count": 3
  },
  {
   "metadata": {
    "ExecuteTime": {
     "end_time": "2025-05-01T03:08:28.566158Z",
     "start_time": "2025-05-01T03:08:28.551060Z"
    }
   },
   "cell_type": "code",
   "source": "df_test.head()",
   "id": "f1ba658a2b563bb8",
   "outputs": [
    {
     "data": {
      "text/plain": [
       "   ID     crim    zn  indus  chas    nox     rm    age     dis  rad  tax  \\\n",
       "0   3  0.02729   0.0   7.07     0  0.469  7.185   61.1  4.9671    2  242   \n",
       "1   6  0.02985   0.0   2.18     0  0.458  6.430   58.7  6.0622    3  222   \n",
       "2   8  0.14455  12.5   7.87     0  0.524  6.172   96.1  5.9505    5  311   \n",
       "3   9  0.21124  12.5   7.87     0  0.524  5.631  100.0  6.0821    5  311   \n",
       "4  10  0.17004  12.5   7.87     0  0.524  6.004   85.9  6.5921    5  311   \n",
       "\n",
       "   ptratio   black  lstat  \n",
       "0     17.8  392.83   4.03  \n",
       "1     18.7  394.12   5.21  \n",
       "2     15.2  396.90  19.15  \n",
       "3     15.2  386.63  29.93  \n",
       "4     15.2  386.71  17.10  "
      ],
      "text/html": [
       "<div>\n",
       "<style scoped>\n",
       "    .dataframe tbody tr th:only-of-type {\n",
       "        vertical-align: middle;\n",
       "    }\n",
       "\n",
       "    .dataframe tbody tr th {\n",
       "        vertical-align: top;\n",
       "    }\n",
       "\n",
       "    .dataframe thead th {\n",
       "        text-align: right;\n",
       "    }\n",
       "</style>\n",
       "<table border=\"1\" class=\"dataframe\">\n",
       "  <thead>\n",
       "    <tr style=\"text-align: right;\">\n",
       "      <th></th>\n",
       "      <th>ID</th>\n",
       "      <th>crim</th>\n",
       "      <th>zn</th>\n",
       "      <th>indus</th>\n",
       "      <th>chas</th>\n",
       "      <th>nox</th>\n",
       "      <th>rm</th>\n",
       "      <th>age</th>\n",
       "      <th>dis</th>\n",
       "      <th>rad</th>\n",
       "      <th>tax</th>\n",
       "      <th>ptratio</th>\n",
       "      <th>black</th>\n",
       "      <th>lstat</th>\n",
       "    </tr>\n",
       "  </thead>\n",
       "  <tbody>\n",
       "    <tr>\n",
       "      <th>0</th>\n",
       "      <td>3</td>\n",
       "      <td>0.02729</td>\n",
       "      <td>0.0</td>\n",
       "      <td>7.07</td>\n",
       "      <td>0</td>\n",
       "      <td>0.469</td>\n",
       "      <td>7.185</td>\n",
       "      <td>61.1</td>\n",
       "      <td>4.9671</td>\n",
       "      <td>2</td>\n",
       "      <td>242</td>\n",
       "      <td>17.8</td>\n",
       "      <td>392.83</td>\n",
       "      <td>4.03</td>\n",
       "    </tr>\n",
       "    <tr>\n",
       "      <th>1</th>\n",
       "      <td>6</td>\n",
       "      <td>0.02985</td>\n",
       "      <td>0.0</td>\n",
       "      <td>2.18</td>\n",
       "      <td>0</td>\n",
       "      <td>0.458</td>\n",
       "      <td>6.430</td>\n",
       "      <td>58.7</td>\n",
       "      <td>6.0622</td>\n",
       "      <td>3</td>\n",
       "      <td>222</td>\n",
       "      <td>18.7</td>\n",
       "      <td>394.12</td>\n",
       "      <td>5.21</td>\n",
       "    </tr>\n",
       "    <tr>\n",
       "      <th>2</th>\n",
       "      <td>8</td>\n",
       "      <td>0.14455</td>\n",
       "      <td>12.5</td>\n",
       "      <td>7.87</td>\n",
       "      <td>0</td>\n",
       "      <td>0.524</td>\n",
       "      <td>6.172</td>\n",
       "      <td>96.1</td>\n",
       "      <td>5.9505</td>\n",
       "      <td>5</td>\n",
       "      <td>311</td>\n",
       "      <td>15.2</td>\n",
       "      <td>396.90</td>\n",
       "      <td>19.15</td>\n",
       "    </tr>\n",
       "    <tr>\n",
       "      <th>3</th>\n",
       "      <td>9</td>\n",
       "      <td>0.21124</td>\n",
       "      <td>12.5</td>\n",
       "      <td>7.87</td>\n",
       "      <td>0</td>\n",
       "      <td>0.524</td>\n",
       "      <td>5.631</td>\n",
       "      <td>100.0</td>\n",
       "      <td>6.0821</td>\n",
       "      <td>5</td>\n",
       "      <td>311</td>\n",
       "      <td>15.2</td>\n",
       "      <td>386.63</td>\n",
       "      <td>29.93</td>\n",
       "    </tr>\n",
       "    <tr>\n",
       "      <th>4</th>\n",
       "      <td>10</td>\n",
       "      <td>0.17004</td>\n",
       "      <td>12.5</td>\n",
       "      <td>7.87</td>\n",
       "      <td>0</td>\n",
       "      <td>0.524</td>\n",
       "      <td>6.004</td>\n",
       "      <td>85.9</td>\n",
       "      <td>6.5921</td>\n",
       "      <td>5</td>\n",
       "      <td>311</td>\n",
       "      <td>15.2</td>\n",
       "      <td>386.71</td>\n",
       "      <td>17.10</td>\n",
       "    </tr>\n",
       "  </tbody>\n",
       "</table>\n",
       "</div>"
      ]
     },
     "execution_count": 4,
     "metadata": {},
     "output_type": "execute_result"
    }
   ],
   "execution_count": 4
  },
  {
   "metadata": {
    "ExecuteTime": {
     "end_time": "2025-05-01T03:08:28.698272Z",
     "start_time": "2025-05-01T03:08:28.671604Z"
    }
   },
   "cell_type": "code",
   "source": [
    "df_train = df_train.drop(columns=[\"ID\"])\n",
    "df_test_index = df_test['ID']\n",
    "df_test = df_test.drop(columns=[\"ID\"])"
   ],
   "id": "8d8373bae8ee783",
   "outputs": [],
   "execution_count": 5
  },
  {
   "metadata": {
    "ExecuteTime": {
     "end_time": "2025-05-01T03:10:16.367436Z",
     "start_time": "2025-05-01T03:08:28.839468Z"
    }
   },
   "cell_type": "code",
   "source": [
    "from sklearn.model_selection import GridSearchCV\n",
    "Y_train = df_train[\"medv\"]\n",
    "X_train = df_train.drop(columns=[\"medv\"])\n",
    "\n",
    "clf = xgb.XGBRFRegressor(objective=\"reg:squarederror\", tree_method=\"hist\", device=\"cuda\")\n",
    "\n",
    "param_grid = {\n",
    "    \"colsample_bynode\": [0.6, 0.8, 1.0],\n",
    "    \"learning_rate\": [0.5, 1],\n",
    "    \"max_depth\": [4, 5, 6],\n",
    "    \"subsample\": [0.6, 0.8]\n",
    "}\n",
    "\n",
    "grid_search = GridSearchCV(\n",
    "    estimator=clf,\n",
    "    param_grid=param_grid,\n",
    "    scoring=\"neg_root_mean_squared_error\",\n",
    "    cv=4,\n",
    "    verbose=2,\n",
    "    n_jobs=-1\n",
    ")\n",
    "\n",
    "grid_search.fit(X_train, Y_train)\n",
    "clf = grid_search.best_estimator_"
   ],
   "id": "ee61c7cb9ea7240",
   "outputs": [
    {
     "name": "stdout",
     "output_type": "stream",
     "text": [
      "Fitting 4 folds for each of 36 candidates, totalling 144 fits\n"
     ]
    }
   ],
   "execution_count": 6
  },
  {
   "metadata": {
    "ExecuteTime": {
     "end_time": "2025-05-01T03:10:16.710589Z",
     "start_time": "2025-05-01T03:10:16.621807Z"
    }
   },
   "cell_type": "code",
   "source": [
    "X_test = df_test\n",
    "clf.predict(X_test)"
   ],
   "id": "36dbe786cf68f170",
   "outputs": [
    {
     "name": "stderr",
     "output_type": "stream",
     "text": [
      "D:\\Programming\\Python\\Jupyter\\.venv\\Lib\\site-packages\\xgboost\\core.py:729: UserWarning: [06:10:16] WARNING: C:\\actions-runner\\_work\\xgboost\\xgboost\\src\\common\\error_msg.cc:58: Falling back to prediction using DMatrix due to mismatched devices. This might lead to higher memory usage and slower performance. XGBoost is running on: cuda:0, while the input data is on: cpu.\n",
      "Potential solutions:\n",
      "- Use a data structure that matches the device ordinal in the booster.\n",
      "- Set the device for booster before call to inplace_predict.\n",
      "\n",
      "This warning will only be shown once.\n",
      "\n",
      "  return func(**kwargs)\n"
     ]
    },
    {
     "data": {
      "text/plain": [
       "array([34.23615  , 23.74952  , 16.117756 , 15.390671 , 17.61584  ,\n",
       "       19.667377 , 20.545479 , 15.984325 , 16.283632 , 18.810354 ,\n",
       "       19.527447 , 22.456383 , 17.546227 , 15.462223 , 21.658882 ,\n",
       "       21.236916 , 22.5429   , 29.565441 , 17.407032 , 23.679321 ,\n",
       "       22.503916 , 23.490562 , 22.4639   , 21.47727  , 21.131096 ,\n",
       "       22.519012 , 23.315285 , 22.843504 , 22.76887  , 27.127748 ,\n",
       "       44.44523  , 44.369736 , 29.674908 , 20.199232 , 17.965847 ,\n",
       "       20.418242 , 17.82684  , 16.663189 , 19.255247 , 19.323654 ,\n",
       "       15.944081 , 20.121277 , 20.491459 , 16.264084 , 15.669167 ,\n",
       "       14.5645   , 14.5238   , 15.885097 , 20.576736 , 20.878765 ,\n",
       "       17.693214 , 31.747406 , 48.140556 , 20.85748  , 21.190525 ,\n",
       "       22.437643 , 29.04947  , 48.196815 , 35.43777  , 32.131554 ,\n",
       "       33.606422 , 46.026688 , 20.065838 , 17.522045 , 18.674524 ,\n",
       "       20.491314 , 23.227728 , 23.37016  , 17.418083 , 20.950657 ,\n",
       "       31.143848 , 45.20821  , 37.4975   , 37.672245 , 23.499073 ,\n",
       "       26.46467  , 21.361544 , 19.44949  , 21.391357 , 33.401028 ,\n",
       "       22.521727 , 21.526949 , 39.06408  , 46.77468  , 34.848137 ,\n",
       "       30.334118 , 43.460297 , 20.927734 , 20.68781  , 29.627659 ,\n",
       "       34.977776 , 30.236217 , 23.549446 , 47.525875 , 23.315285 ,\n",
       "       25.458673 , 35.765884 , 21.461273 , 27.413763 , 24.20179  ,\n",
       "       34.448177 , 29.054754 , 28.197664 , 22.488266 , 24.900723 ,\n",
       "       20.638803 , 23.483208 , 23.109436 , 20.760302 , 23.508625 ,\n",
       "       23.540075 , 20.641981 , 21.799168 , 21.92939  , 20.959827 ,\n",
       "       21.235086 , 20.646864 , 22.835777 , 27.642105 , 30.514381 ,\n",
       "       22.172544 , 22.841364 , 20.028502 , 18.836609 , 42.358753 ,\n",
       "       32.256256 , 24.789482 , 13.395742 , 12.858012 , 19.782309 ,\n",
       "       12.529636 ,  8.521855 ,  8.609834 , 14.509443 , 15.334793 ,\n",
       "       13.3218355, 13.747371 , 10.687868 , 12.716528 ,  8.036067 ,\n",
       "        8.40811  , 14.289355 , 14.970566 , 19.364235 , 13.772569 ,\n",
       "       13.072489 , 10.974538 , 15.52406  , 17.138674 , 20.351955 ,\n",
       "       15.055355 , 15.446552 , 14.603897 , 12.064204 , 11.855845 ,\n",
       "        8.6027565, 15.515333 , 15.438165 , 15.294526 , 14.22905  ,\n",
       "       15.72654  , 17.071611 , 27.367779 , 14.858595 , 30.434006 ,\n",
       "       21.055582 , 13.041527 , 20.541664 , 18.9064   , 18.095592 ,\n",
       "       20.591734 , 20.262224 , 25.74858  ], dtype=float32)"
      ]
     },
     "execution_count": 7,
     "metadata": {},
     "output_type": "execute_result"
    }
   ],
   "execution_count": 7
  },
  {
   "metadata": {
    "ExecuteTime": {
     "end_time": "2025-05-01T03:10:16.768245Z",
     "start_time": "2025-05-01T03:10:16.754382Z"
    }
   },
   "cell_type": "code",
   "source": [
    "answer = pd.DataFrame(clf.predict(X_test), index=df_test_index, columns=[\"medv\"])\n",
    "answer.index.name = \"ID\""
   ],
   "id": "1b39782c49ca479d",
   "outputs": [],
   "execution_count": 8
  },
  {
   "metadata": {
    "ExecuteTime": {
     "end_time": "2025-05-01T03:10:16.877312Z",
     "start_time": "2025-05-01T03:10:16.820581Z"
    }
   },
   "cell_type": "code",
   "source": "answer.to_csv(\"sumbission.csv\")",
   "id": "7552f60659b5054f",
   "outputs": [],
   "execution_count": 9
  }
 ],
 "metadata": {
  "kernelspec": {
   "display_name": "Python 3",
   "language": "python",
   "name": "python3"
  },
  "language_info": {
   "codemirror_mode": {
    "name": "ipython",
    "version": 2
   },
   "file_extension": ".py",
   "mimetype": "text/x-python",
   "name": "python",
   "nbconvert_exporter": "python",
   "pygments_lexer": "ipython2",
   "version": "2.7.6"
  }
 },
 "nbformat": 4,
 "nbformat_minor": 5
}
