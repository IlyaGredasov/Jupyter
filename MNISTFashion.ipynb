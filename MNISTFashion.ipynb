{
 "cells": [
  {
   "cell_type": "code",
   "execution_count": 1,
   "id": "a54adf28-d4a7-4190-87d2-7211fd6ae61a",
   "metadata": {
    "ExecuteTime": {
     "end_time": "2024-09-08T09:49:14.250823Z",
     "start_time": "2024-09-08T09:49:10.293157Z"
    },
    "slideshow": {
     "slide_type": ""
    },
    "tags": []
   },
   "outputs": [],
   "source": [
    "import torch\n",
    "import numpy as np\n",
    "import pandas as pd\n",
    "import matplotlib.pyplot as plt\n",
    "from torch import nn\n",
    "import torchvision\n",
    "from tqdm.auto import tqdm"
   ]
  },
  {
   "cell_type": "code",
   "execution_count": 2,
   "id": "9baedc18-2ead-4855-8924-c509edef2b86",
   "metadata": {
    "ExecuteTime": {
     "end_time": "2024-09-08T09:49:14.290734Z",
     "start_time": "2024-09-08T09:49:14.252823Z"
    }
   },
   "outputs": [],
   "source": [
    "train_data=torchvision.datasets.FashionMNIST(\n",
    "\troot=\"Datasets\",\n",
    "\ttrain=True,\n",
    "\tdownload=True,\n",
    "\ttransform=torchvision.transforms.ToTensor(),\n",
    "\ttarget_transform=None\n",
    ")\n",
    "\n",
    "trainloader = torch.utils.data.DataLoader(train_data, batch_size=32,\n",
    "                                          shuffle=True, num_workers=2)"
   ]
  },
  {
   "cell_type": "code",
   "execution_count": 3,
   "id": "058ccd31-2155-4a96-9293-e088b2ac75da",
   "metadata": {
    "ExecuteTime": {
     "end_time": "2024-09-08T09:49:14.303441Z",
     "start_time": "2024-09-08T09:49:14.293747Z"
    }
   },
   "outputs": [],
   "source": [
    "test_data=torchvision.datasets.FashionMNIST(\n",
    "\troot=\"Datasets\",\n",
    "\ttrain=False,\n",
    "\tdownload=True,\n",
    "\ttransform=torchvision.transforms.ToTensor(),\n",
    "\ttarget_transform=None\n",
    ")\n",
    "\n",
    "testloader = torch.utils.data.DataLoader(test_data, batch_size=32,\n",
    "                                          shuffle=True, num_workers=2)"
   ]
  },
  {
   "cell_type": "code",
   "execution_count": 4,
   "id": "8227bd48",
   "metadata": {
    "ExecuteTime": {
     "end_time": "2024-09-08T09:49:14.311526Z",
     "start_time": "2024-09-08T09:49:14.307452Z"
    }
   },
   "outputs": [],
   "source": [
    "image, label = train_data[0]"
   ]
  },
  {
   "cell_type": "code",
   "execution_count": 5,
   "id": "0bec1fa0",
   "metadata": {
    "ExecuteTime": {
     "end_time": "2024-09-08T09:49:14.318118Z",
     "start_time": "2024-09-08T09:49:14.314547Z"
    }
   },
   "outputs": [],
   "source": [
    "class_names = train_data.classes"
   ]
  },
  {
   "cell_type": "code",
   "execution_count": 6,
   "id": "07d4ab83",
   "metadata": {
    "ExecuteTime": {
     "end_time": "2024-09-08T09:49:14.327582Z",
     "start_time": "2024-09-08T09:49:14.320132Z"
    }
   },
   "outputs": [
    {
     "data": {
      "text/plain": [
       "['T-shirt/top',\n",
       " 'Trouser',\n",
       " 'Pullover',\n",
       " 'Dress',\n",
       " 'Coat',\n",
       " 'Sandal',\n",
       " 'Shirt',\n",
       " 'Sneaker',\n",
       " 'Bag',\n",
       " 'Ankle boot']"
      ]
     },
     "execution_count": 6,
     "metadata": {},
     "output_type": "execute_result"
    }
   ],
   "source": [
    "class_names"
   ]
  },
  {
   "cell_type": "code",
   "execution_count": 7,
   "id": "318d317a",
   "metadata": {
    "ExecuteTime": {
     "end_time": "2024-09-08T09:49:14.405947Z",
     "start_time": "2024-09-08T09:49:14.330598Z"
    }
   },
   "outputs": [
    {
     "data": {
      "text/plain": [
       "(-0.5, 27.5, 27.5, -0.5)"
      ]
     },
     "execution_count": 7,
     "metadata": {},
     "output_type": "execute_result"
    },
    {
     "data": {
      "image/png": "[encoded data removed]",
      "text/plain": [
       "<Figure size 640x480 with 1 Axes>"
      ]
     },
     "metadata": {},
     "output_type": "display_data"
    }
   ],
   "source": [
    "plt.imshow(image.squeeze(), cmap=\"gray\")\n",
    "plt.axis(False)"
   ]
  },
  {
   "cell_type": "code",
   "execution_count": 8,
   "id": "b1aeb9b8",
   "metadata": {
    "ExecuteTime": {
     "end_time": "2024-09-08T09:49:14.415520Z",
     "start_time": "2024-09-08T09:49:14.408957Z"
    }
   },
   "outputs": [],
   "source": [
    "class FashionModel(nn.Module):\n",
    "    def __init__(self,input_shape,hidden_units,output_shape):\n",
    "        super().__init__()\n",
    "        self.layer_stack=nn.Sequential(\n",
    "            nn.Flatten(),\n",
    "            nn.Linear(in_features=input_shape,out_features=hidden_units),\n",
    "            nn.LeakyReLU(),\n",
    "            nn.Linear(in_features=hidden_units,out_features=hidden_units),\n",
    "            nn.LeakyReLU(),\n",
    "            nn.Linear(in_features=hidden_units,out_features=output_shape),\n",
    "        )\n",
    "    def forward(self,x):\n",
    "        return self.layer_stack(x)"
   ]
  },
  {
   "cell_type": "code",
   "execution_count": 9,
   "id": "471a4f60",
   "metadata": {
    "ExecuteTime": {
     "end_time": "2024-09-08T09:49:14.424002Z",
     "start_time": "2024-09-08T09:49:14.417534Z"
    }
   },
   "outputs": [],
   "source": [
    "fashion_model = FashionModel(input_shape=784,hidden_units=32,output_shape=len(class_names))\n",
    "loss_fn = nn.CrossEntropyLoss()\n",
    "optimizer = torch.optim.Adam(params=fashion_model.parameters(), lr=0.01)"
   ]
  },
  {
   "cell_type": "code",
   "execution_count": 10,
   "id": "8c2c34fb",
   "metadata": {
    "ExecuteTime": {
     "end_time": "2024-09-08T09:49:14.430387Z",
     "start_time": "2024-09-08T09:49:14.427024Z"
    }
   },
   "outputs": [],
   "source": [
    "epochs = 5"
   ]
  },
  {
   "cell_type": "code",
   "execution_count": 11,
   "id": "3fdbd3ac",
   "metadata": {
    "ExecuteTime": {
     "end_time": "2024-09-08T09:49:54.753266Z",
     "start_time": "2024-09-08T09:49:14.433415Z"
    }
   },
   "outputs": [
    {
     "data": {
      "application/vnd.jupyter.widget-view+json": {
       "model_id": "bf588539e8474040936f07cd2ff3e908",
       "version_major": 2,
       "version_minor": 0
      },
      "text/plain": [
       "  0%|          | 0/5 [00:00<?, ?it/s]"
      ]
     },
     "metadata": {},
     "output_type": "display_data"
    }
   ],
   "source": [
    "for epoch in tqdm(range(epochs)):\n",
    "    fashion_model.train()\n",
    "    train_loss = 0\n",
    "    for batch, (x,y) in enumerate(trainloader):   \n",
    "        y_pred = fashion_model(x)\n",
    "        loss = loss_fn(y_pred,y)\n",
    "        train_loss += loss\n",
    "        optimizer.zero_grad()\n",
    "        loss.backward()\n",
    "        optimizer.step()\n",
    "train_loss /= len(trainloader)"
   ]
  },
  {
   "cell_type": "code",
   "execution_count": 12,
   "id": "d99dc48b",
   "metadata": {
    "ExecuteTime": {
     "end_time": "2024-09-08T09:49:54.766080Z",
     "start_time": "2024-09-08T09:49:54.757271Z"
    }
   },
   "outputs": [
    {
     "data": {
      "text/plain": [
       "tensor(0.3927, grad_fn=<DivBackward0>)"
      ]
     },
     "execution_count": 12,
     "metadata": {},
     "output_type": "execute_result"
    }
   ],
   "source": [
    "train_loss"
   ]
  },
  {
   "cell_type": "code",
   "execution_count": 13,
   "id": "07088bae",
   "metadata": {
    "ExecuteTime": {
     "end_time": "2024-09-08T09:49:59.509749Z",
     "start_time": "2024-09-08T09:49:54.771074Z"
    }
   },
   "outputs": [],
   "source": [
    "test_loss = 0\n",
    "fashion_model.eval()\n",
    "with torch.inference_mode():\n",
    "    for x,y in testloader:\n",
    "        test_pred = fashion_model(x)\n",
    "        test_loss += loss_fn(test_pred,y)\n",
    "    test_loss/=len(testloader)"
   ]
  },
  {
   "cell_type": "code",
   "execution_count": 14,
   "id": "f92b98d1",
   "metadata": {
    "ExecuteTime": {
     "end_time": "2024-09-08T09:49:59.518191Z",
     "start_time": "2024-09-08T09:49:59.510748Z"
    }
   },
   "outputs": [
    {
     "data": {
      "text/plain": [
       "tensor(0.4359)"
      ]
     },
     "execution_count": 14,
     "metadata": {},
     "output_type": "execute_result"
    }
   ],
   "source": [
    "test_loss"
   ]
  },
  {
   "cell_type": "code",
   "execution_count": null,
   "id": "25987bd9",
   "metadata": {},
   "outputs": [],
   "source": []
  }
 ],
 "metadata": {
  "kernelspec": {
   "display_name": "Python 3 (ipykernel)",
   "language": "python",
   "name": "python3"
  },
  "language_info": {
   "codemirror_mode": {
    "name": "ipython",
    "version": 3
   },
   "file_extension": ".py",
   "mimetype": "text/x-python",
   "name": "python",
   "nbconvert_exporter": "python",
   "pygments_lexer": "ipython3",
   "version": "3.12.3"
  }
 },
 "nbformat": 4,
 "nbformat_minor": 5
}
