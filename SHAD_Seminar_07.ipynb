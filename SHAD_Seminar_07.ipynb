{
 "cells": [
  {
   "cell_type": "code",
   "execution_count": 1,
   "id": "f6e45441",
   "metadata": {
    "ExecuteTime": {
     "end_time": "2024-09-20T13:07:01.826018Z",
     "start_time": "2024-09-20T13:06:56.664564Z"
    }
   },
   "outputs": [],
   "source": [
    "import matplotlib.pyplot as plt\n",
    "from matplotlib.image import imread\n",
    "from mpl_toolkits import mplot3d\n",
    "from matplotlib import gridspec\n",
    "from mlxtend.plotting import plot_decision_regions\n",
    "import seaborn as sns\n",
    "import pandas as pd\n",
    "from tqdm.notebook import tqdm\n",
    "from scipy.special import softmax\n",
    "from scipy.spatial. distance import cdist\n",
    "import numpy as np\n",
    "import torch\n",
    "from sklearn.preprocessing import StandardScaler\n",
    "from sklearn.svm import SVC, SVR\n",
    "from sklearn.linear_model import LogisticRegression\n",
    "from sklearn.metrics import classification_report\n",
    "from sklearn.model_selection import KFold, ParameterGrid\n",
    "from sklearn.datasets import make_classification, make_regression\n",
    "from sklearn.model_selection import train_test_split\n",
    "from sklearn.decomposition import PCA\n",
    "from torchvision import datasets\n",
    "from torchvision import transforms"
   ]
  },
  {
   "cell_type": "code",
   "execution_count": 2,
   "id": "4080ce32",
   "metadata": {
    "ExecuteTime": {
     "end_time": "2024-09-20T13:07:01.833493Z",
     "start_time": "2024-09-20T13:07:01.828034Z"
    }
   },
   "outputs": [],
   "source": [
    "np.random.seed(0)\n",
    "l = 200\n",
    "beta = 2.\n",
    "\n",
    "x = np.linspace(-10,10,l)\n",
    "w = np.array([1.,2.,3.,4.])\n",
    "y = w[0]+w[1]*x+w[2]*np.sin(x)+w[3]*np.cos(x)+beta*np.random.randn(l)\n",
    "\n",
    "x_train, x_test, y_train, y_test = train_test_split(x,y,test_size=0.2)"
   ]
  },
  {
   "cell_type": "code",
   "execution_count": 3,
   "id": "e93d387b",
   "metadata": {
    "ExecuteTime": {
     "end_time": "2024-09-20T13:07:01.977415Z",
     "start_time": "2024-09-20T13:07:01.835489Z"
    }
   },
   "outputs": [
    {
     "data": {
      "text/plain": [
       "[<matplotlib.lines.Line2D at 0x1d17de2e690>]"
      ]
     },
     "execution_count": 3,
     "metadata": {},
     "output_type": "execute_result"
    },
    {
     "data": {
      "image/png": "[encoded data removed]",
      "text/plain": [
       "<Figure size 640x480 with 1 Axes>"
      ]
     },
     "metadata": {},
     "output_type": "display_data"
    }
   ],
   "source": [
    "plt.plot(x_train,y_train,'.')"
   ]
  },
  {
   "cell_type": "code",
   "execution_count": 4,
   "id": "6892be0e",
   "metadata": {
    "ExecuteTime": {
     "end_time": "2024-09-20T13:07:01.984635Z",
     "start_time": "2024-09-20T13:07:01.980419Z"
    }
   },
   "outputs": [],
   "source": [
    "def map_feature(x):\n",
    "    return np.vstack([np.ones_like(x),x,np.sin(x),np.cos(x)]).T"
   ]
  },
  {
   "cell_type": "code",
   "execution_count": 5,
   "id": "94bf4703",
   "metadata": {
    "ExecuteTime": {
     "end_time": "2024-09-20T13:07:01.991012Z",
     "start_time": "2024-09-20T13:07:01.986634Z"
    }
   },
   "outputs": [],
   "source": [
    "X_train = map_feature(x_train)\n",
    "X_test = map_feature(x_test)"
   ]
  },
  {
   "cell_type": "code",
   "execution_count": 6,
   "id": "cff3538b",
   "metadata": {
    "ExecuteTime": {
     "end_time": "2024-09-20T13:07:01.998983Z",
     "start_time": "2024-09-20T13:07:01.992985Z"
    }
   },
   "outputs": [],
   "source": [
    "w_hat = np.linalg.inv(X_train.T@X_train)@X_train.T@y_train"
   ]
  },
  {
   "cell_type": "code",
   "execution_count": 7,
   "id": "80b845b8",
   "metadata": {
    "ExecuteTime": {
     "end_time": "2024-09-20T13:07:02.007989Z",
     "start_time": "2024-09-20T13:07:02.002991Z"
    }
   },
   "outputs": [
    {
     "data": {
      "text/plain": [
       "array([1.10039037, 1.9712099 , 2.58271397, 4.20427972])"
      ]
     },
     "execution_count": 7,
     "metadata": {},
     "output_type": "execute_result"
    }
   ],
   "source": [
    "w_hat"
   ]
  },
  {
   "cell_type": "code",
   "execution_count": 8,
   "id": "e9f0f787",
   "metadata": {
    "ExecuteTime": {
     "end_time": "2024-09-20T13:07:02.014996Z",
     "start_time": "2024-09-20T13:07:02.010990Z"
    }
   },
   "outputs": [],
   "source": [
    "def f(x,w):\n",
    "    return w[0]*torch.sin(x*w[1])+w[2]*torch.sin(x*w[3])"
   ]
  },
  {
   "cell_type": "code",
   "execution_count": 10,
   "id": "b51684bc",
   "metadata": {
    "ExecuteTime": {
     "end_time": "2024-09-20T13:08:02.042719Z",
     "start_time": "2024-09-20T13:07:16.216108Z"
    }
   },
   "outputs": [
    {
     "data": {
      "application/vnd.jupyter.widget-view+json": {
       "model_id": "",
       "version_major": 2,
       "version_minor": 0
      },
      "text/plain": [
       "  0%|          | 0/99999 [00:00<?, ?it/s]"
      ]
     },
     "metadata": {},
     "output_type": "display_data"
    }
   ],
   "source": [
    "torch.manual_seed(0)\n",
    "w_hat = torch.randn(4)\n",
    "w_hat.requires_grad=True\n",
    "X_tr = torch.FloatTensor(x_train)\n",
    "Y_tr = torch.FloatTensor(y_train)\n",
    "loss_fn = torch.nn.MSELoss()\n",
    "optim = torch.optim.SGD([w_hat], lr=0.01)\n",
    "\n",
    "for i in tqdm(range(1,100000), leave=False):\n",
    "    optim.zero_grad()\n",
    "    loss = loss_fn(f(X_tr,w_hat),Y_tr)\n",
    "    loss.backward()\n",
    "    optim.step()"
   ]
  },
  {
   "cell_type": "code",
   "execution_count": 11,
   "id": "13baf8a5",
   "metadata": {
    "ExecuteTime": {
     "end_time": "2024-09-20T13:08:02.052814Z",
     "start_time": "2024-09-20T13:08:02.045729Z"
    }
   },
   "outputs": [
    {
     "data": {
      "text/plain": [
       "tensor([ 1.1986, -1.9920, -0.9286,  2.5259], requires_grad=True)"
      ]
     },
     "execution_count": 11,
     "metadata": {},
     "output_type": "execute_result"
    }
   ],
   "source": [
    "w_hat"
   ]
  },
  {
   "cell_type": "code",
   "execution_count": 12,
   "id": "834f70f0",
   "metadata": {
    "ExecuteTime": {
     "end_time": "2024-09-20T13:08:02.066541Z",
     "start_time": "2024-09-20T13:08:02.055815Z"
    }
   },
   "outputs": [
    {
     "data": {
      "text/plain": [
       "tensor(150.4481, grad_fn=<MseLossBackward0>)"
      ]
     },
     "execution_count": 12,
     "metadata": {},
     "output_type": "execute_result"
    }
   ],
   "source": [
    "loss_fn(f(X_tr,w_hat),Y_tr)"
   ]
  }
 ],
 "metadata": {
  "kernelspec": {
   "display_name": "Python 3 (ipykernel)",
   "language": "python",
   "name": "python3"
  },
  "language_info": {
   "codemirror_mode": {
    "name": "ipython",
    "version": 3
   },
   "file_extension": ".py",
   "mimetype": "text/x-python",
   "name": "python",
   "nbconvert_exporter": "python",
   "pygments_lexer": "ipython3",
   "version": "3.12.3"
  }
 },
 "nbformat": 4,
 "nbformat_minor": 5
}
