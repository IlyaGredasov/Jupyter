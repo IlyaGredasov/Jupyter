{
 "cells": [
  {
   "cell_type": "code",
   "execution_count": 5,
   "id": "3d90356e",
   "metadata": {
    "ExecuteTime": {
     "end_time": "2024-09-21T12:08:53.927732Z",
     "start_time": "2024-09-21T12:08:53.918841Z"
    }
   },
   "outputs": [],
   "source": [
    "import matplotlib.pyplot as plt\n",
    "from matplotlib.image import imread\n",
    "from mpl_toolkits import mplot3d\n",
    "from matplotlib import gridspec\n",
    "from copy import deepcopy\n",
    "from mlxtend.plotting import plot_decision_regions\n",
    "import seaborn as sns\n",
    "import pandas as pd\n",
    "from tqdm.notebook import tqdm\n",
    "from scipy.special import softmax\n",
    "from scipy.spatial.distance import cdist\n",
    "import numpy as np\n",
    "from sklearn import tree, base\n",
    "import itertools\n",
    "from sklearn.tree import DecisionTreeClassifier, DecisionTreeRegressor\n",
    "from sklearn.ensemble import (RandomForestClassifier, AdaBoostClassifier,\n",
    "                              GradientBoostingClassifier, BaggingClassifier)\n",
    "from sklearn.preprocessing import StandardScaler\n",
    "from sklearn.svm import SVC, SVR\n",
    "from sklearn.linear_model import LogisticRegression\n",
    "from sklearn.metrics import classification_report, roc_auc_score, roc_curve\n",
    "from sklearn.metrics import auc\n",
    "from sklearn.model_selection import KFold, ParameterGrid\n",
    "from sklearn.model_selection import cross_val_score, RepeatedStratifiedKFold\n",
    "from sklearn.datasets import make_classification, load_wine\n",
    "from sklearn.model_selection import train_test_split\n",
    "from sklearn.decomposition import PCA\n",
    "from torchvision import datasets, transforms\n",
    "import pyfpgrowth\n",
    "import torch"
   ]
  },
  {
   "cell_type": "code",
   "execution_count": 13,
   "id": "5181bcd0",
   "metadata": {
    "ExecuteTime": {
     "end_time": "2024-09-21T12:39:49.482752Z",
     "start_time": "2024-09-21T12:39:49.475547Z"
    }
   },
   "outputs": [],
   "source": [
    "x,y = make_classification(n_samples=1000, n_features=20,\n",
    "                          n_informative=15, n_redundant=5, random_state=0)\n",
    "def train(model):\n",
    "    cv = RepeatedStratifiedKFold(n_splits=10, n_repeats=3, random_state=0)\n",
    "    n_scores = cross_val_score(model,x,y,scoring='accuracy',cv=cv,n_jobs=-1,error_score='raise')\n",
    "    print(f\"accur:{np.mean(n_scores)},std:{np.std(n_scores)}\")"
   ]
  },
  {
   "cell_type": "code",
   "execution_count": 14,
   "id": "b037a45d",
   "metadata": {
    "ExecuteTime": {
     "end_time": "2024-09-21T12:40:02.985896Z",
     "start_time": "2024-09-21T12:40:02.213551Z"
    }
   },
   "outputs": [
    {
     "name": "stdout",
     "output_type": "stream",
     "text": [
      "accur:0.7456666666666667,std:0.04666785712767288\n"
     ]
    }
   ],
   "source": [
    "train(AdaBoostClassifier())"
   ]
  },
  {
   "cell_type": "code",
   "execution_count": 15,
   "id": "cfda41a7",
   "metadata": {
    "ExecuteTime": {
     "end_time": "2024-09-21T12:40:16.715719Z",
     "start_time": "2024-09-21T12:40:16.637012Z"
    }
   },
   "outputs": [
    {
     "name": "stdout",
     "output_type": "stream",
     "text": [
      "accur:0.7176666666666667,std:0.04310323524851572\n"
     ]
    }
   ],
   "source": [
    "train(LogisticRegression())"
   ]
  },
  {
   "cell_type": "code",
   "execution_count": 16,
   "id": "9c9d1eae",
   "metadata": {
    "ExecuteTime": {
     "end_time": "2024-09-21T12:40:34.301958Z",
     "start_time": "2024-09-21T12:40:32.015821Z"
    }
   },
   "outputs": [
    {
     "name": "stdout",
     "output_type": "stream",
     "text": [
      "accur:0.8496666666666666,std:0.03420363853289427\n"
     ]
    }
   ],
   "source": [
    "train(GradientBoostingClassifier())"
   ]
  },
  {
   "cell_type": "code",
   "execution_count": 17,
   "id": "b1d1d066",
   "metadata": {
    "ExecuteTime": {
     "end_time": "2024-09-21T12:41:13.607262Z",
     "start_time": "2024-09-21T12:41:13.159218Z"
    }
   },
   "outputs": [
    {
     "name": "stdout",
     "output_type": "stream",
     "text": [
      "accur:0.831,std:0.040853396431630995\n"
     ]
    }
   ],
   "source": [
    "train(BaggingClassifier())"
   ]
  },
  {
   "cell_type": "code",
   "execution_count": 18,
   "id": "2415b21f",
   "metadata": {
    "ExecuteTime": {
     "end_time": "2024-09-21T12:41:28.597608Z",
     "start_time": "2024-09-21T12:41:27.919933Z"
    }
   },
   "outputs": [
    {
     "name": "stdout",
     "output_type": "stream",
     "text": [
      "accur:0.8953333333333334,std:0.02499777767900356\n"
     ]
    }
   ],
   "source": [
    "train(BaggingClassifier(SVC()))"
   ]
  },
  {
   "cell_type": "code",
   "execution_count": 19,
   "id": "6958213a",
   "metadata": {
    "ExecuteTime": {
     "end_time": "2024-09-21T12:42:54.589333Z",
     "start_time": "2024-09-21T12:42:53.233791Z"
    }
   },
   "outputs": [
    {
     "name": "stdout",
     "output_type": "stream",
     "text": [
      "accur:0.8830000000000001,std:0.03023794525647095\n"
     ]
    }
   ],
   "source": [
    "train(RandomForestClassifier(random_state=0))"
   ]
  }
 ],
 "metadata": {
  "kernelspec": {
   "display_name": "Python 3 (ipykernel)",
   "language": "python",
   "name": "python3"
  },
  "language_info": {
   "codemirror_mode": {
    "name": "ipython",
    "version": 3
   },
   "file_extension": ".py",
   "mimetype": "text/x-python",
   "name": "python",
   "nbconvert_exporter": "python",
   "pygments_lexer": "ipython3",
   "version": "3.12.3"
  }
 },
 "nbformat": 4,
 "nbformat_minor": 5
}
