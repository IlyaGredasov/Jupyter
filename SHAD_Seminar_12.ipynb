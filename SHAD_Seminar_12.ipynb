{
 "cells": [
  {
   "cell_type": "code",
   "execution_count": 7,
   "id": "caba3c1a",
   "metadata": {
    "ExecuteTime": {
     "end_time": "2024-09-22T05:20:12.909139Z",
     "start_time": "2024-09-22T05:20:12.902864Z"
    }
   },
   "outputs": [],
   "source": [
    "import matplotlib.pyplot as plt\n",
    "from matplotlib.image import imread\n",
    "from mpl_toolkits import mplot3d\n",
    "from copy import deepcopy\n",
    "from mlxtend.plotting import plot_decision_regions\n",
    "import seaborn as sns\n",
    "import pandas as pd\n",
    "from tqdm.notebook import tqdm\n",
    "from scipy.spatial.distance import cdist\n",
    "import numpy as np\n",
    "from sklearn import tree, base\n",
    "import itertools\n",
    "from sklearn.tree import DecisionTreeClassifier, DecisionTreeRegressor\n",
    "from sklearn.ensemble import (RandomForestClassifier, AdaBoostClassifier,\n",
    "                              GradientBoostingClassifier, GradientBoostingRegressor, BaggingClassifier)\n",
    "from sklearn.svm import SVC, SVR\n",
    "from sklearn.linear_model import LogisticRegression, LinearRegression\n",
    "from sklearn.metrics import classification_report, roc_auc_score, roc_curve\n",
    "from sklearn.model_selection import KFold, ParameterGrid\n",
    "from sklearn.model_selection import cross_val_score, RepeatedStratifiedKFold, RepeatedKFold\n",
    "from sklearn.datasets import make_classification, make_regression, load_wine\n",
    "from sklearn.model_selection import train_test_split\n",
    "from sklearn.decomposition import PCA\n",
    "from torchvision import datasets, transforms\n",
    "import torch\n",
    "import xgboost as xgb\n",
    "from catboost import CatBoostClassifier\n",
    "import lightgbm as lgb"
   ]
  },
  {
   "cell_type": "code",
   "execution_count": 9,
   "id": "2b5696aa",
   "metadata": {
    "ExecuteTime": {
     "end_time": "2024-09-22T05:21:32.413845Z",
     "start_time": "2024-09-22T05:21:28.019958Z"
    }
   },
   "outputs": [
    {
     "name": "stdout",
     "output_type": "stream",
     "text": [
      "0.8771558882220207 0.01796336435596255\n"
     ]
    }
   ],
   "source": [
    "x,y = make_regression(n_samples=1000,n_features=20,random_state=0)\n",
    "model = GradientBoostingRegressor()\n",
    "cv = RepeatedKFold(n_splits=10,n_repeats=3,random_state=0)\n",
    "n_scores = cross_val_score(model,x,y,cv=cv,n_jobs=-1)\n",
    "print(np.mean(n_scores),np.std(n_scores))"
   ]
  },
  {
   "cell_type": "code",
   "execution_count": 10,
   "id": "19803ae8",
   "metadata": {
    "ExecuteTime": {
     "end_time": "2024-09-22T05:25:09.479821Z",
     "start_time": "2024-09-22T05:25:07.421009Z"
    }
   },
   "outputs": [
    {
     "name": "stdout",
     "output_type": "stream",
     "text": [
      "0.8889999999999999 0.031973947728319914\n"
     ]
    }
   ],
   "source": [
    "x,y = make_classification(n_samples=1000,n_features=20,\n",
    "                         n_informative=15,n_redundant=5,\n",
    "                         random_state=0)\n",
    "model =xgb.XGBClassifier(objective='binary:logistic',\n",
    "                        random_state=0)\n",
    "cv = RepeatedKFold(n_splits=10,n_repeats=3,random_state=0)\n",
    "n_scores = cross_val_score(model,x,y,cv=cv,n_jobs=-1)\n",
    "print(np.mean(n_scores),np.std(n_scores))"
   ]
  },
  {
   "cell_type": "code",
   "execution_count": 11,
   "id": "815c8e5b",
   "metadata": {
    "ExecuteTime": {
     "end_time": "2024-09-22T05:25:29.275641Z",
     "start_time": "2024-09-22T05:25:26.786823Z"
    }
   },
   "outputs": [
    {
     "name": "stdout",
     "output_type": "stream",
     "text": [
      "0.8430000000000001 0.041565209811411596\n"
     ]
    }
   ],
   "source": [
    "x,y = make_classification(n_samples=1000,n_features=20,\n",
    "                         n_informative=15,n_redundant=5,\n",
    "                         random_state=0)\n",
    "model = xgb.XGBRFClassifier(objective='binary:logistic',\n",
    "                        random_state=0)\n",
    "cv = RepeatedKFold(n_splits=10,n_repeats=3,random_state=0)\n",
    "n_scores = cross_val_score(model,x,y,cv=cv,n_jobs=-1)\n",
    "print(np.mean(n_scores),np.std(n_scores))"
   ]
  },
  {
   "cell_type": "code",
   "execution_count": 14,
   "id": "a3aca50d",
   "metadata": {
    "ExecuteTime": {
     "end_time": "2024-09-22T05:31:46.513404Z",
     "start_time": "2024-09-22T05:31:46.116413Z"
    }
   },
   "outputs": [
    {
     "name": "stdout",
     "output_type": "stream",
     "text": [
      "[LightGBM] [Info] Auto-choosing col-wise multi-threading, the overhead of testing was 0.000722 seconds.\n",
      "You can set `force_col_wise=true` to remove the overhead.\n",
      "[LightGBM] [Info] Total Bins 5100\n",
      "[LightGBM] [Info] Number of data points in the train set: 10000, number of used features: 20\n",
      "[LightGBM] [Info] Start training from score -2.299590\n",
      "[LightGBM] [Info] Start training from score -2.299590\n",
      "[LightGBM] [Info] Start training from score -2.306593\n",
      "[LightGBM] [Info] Start training from score -2.298593\n",
      "[LightGBM] [Info] Start training from score -2.311626\n",
      "[LightGBM] [Info] Start training from score -2.302585\n",
      "[LightGBM] [Info] Start training from score -2.302585\n",
      "[LightGBM] [Info] Start training from score -2.302585\n",
      "[LightGBM] [Info] Start training from score -2.296603\n",
      "[LightGBM] [Info] Start training from score -2.305590\n"
     ]
    },
    {
     "data": {
      "text/plain": [
       "0.9038"
      ]
     },
     "execution_count": 14,
     "metadata": {},
     "output_type": "execute_result"
    }
   ],
   "source": [
    "x,y = make_classification(n_samples=10000,n_features=20,\n",
    "                         n_informative=15,n_redundant=5,\n",
    "                          n_classes=10,\n",
    "                         random_state=0)\n",
    "train_data = lgb.Dataset(x,label=y)\n",
    "param = {'num_leaves':31,\n",
    "        'objective':'multiclass',\n",
    "        'num_class': 10,\n",
    "        'metric':['multi_logloss']}\n",
    "bst = lgb.train(param,train_data,num_boost_round=30)\n",
    "(bst.predict(x).argmax(axis=-1) == y).mean()"
   ]
  },
  {
   "cell_type": "code",
   "execution_count": 23,
   "id": "53410ba1",
   "metadata": {
    "ExecuteTime": {
     "end_time": "2024-09-22T05:38:44.455564Z",
     "start_time": "2024-09-22T05:38:44.203765Z"
    }
   },
   "outputs": [
    {
     "name": "stdout",
     "output_type": "stream",
     "text": [
      "0.735 0.043493294502332976\n"
     ]
    }
   ],
   "source": [
    "x,y = make_classification(n_samples=1000,n_features=20,\n",
    "                         n_informative=15,n_redundant=5,\n",
    "                         random_state=0)\n",
    "model = CatBoostClassifier(iterations=4,\n",
    "                          depth=3,\n",
    "                          learning_rate=1,\n",
    "                          loss_function='Logloss',\n",
    "                          verbose=True,task_type='CPU')\n",
    "cv = RepeatedKFold(n_splits=10,n_repeats=3,random_state=0)\n",
    "n_scores = cross_val_score(model,x,y,cv=cv,n_jobs=-1)\n",
    "print(np.mean(n_scores),np.std(n_scores))"
   ]
  }
 ],
 "metadata": {
  "kernelspec": {
   "display_name": "Python 3 (ipykernel)",
   "language": "python",
   "name": "python3"
  },
  "language_info": {
   "codemirror_mode": {
    "name": "ipython",
    "version": 3
   },
   "file_extension": ".py",
   "mimetype": "text/x-python",
   "name": "python",
   "nbconvert_exporter": "python",
   "pygments_lexer": "ipython3",
   "version": "3.12.3"
  }
 },
 "nbformat": 4,
 "nbformat_minor": 5
}
