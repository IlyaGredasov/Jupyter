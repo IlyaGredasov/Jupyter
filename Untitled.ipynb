{
 "cells": [
  {
   "cell_type": "code",
   "execution_count": 12,
   "id": "b570660e",
   "metadata": {
    "ExecuteTime": {
     "end_time": "2024-10-14T14:45:44.650432Z",
     "start_time": "2024-10-14T14:45:44.630473Z"
    }
   },
   "outputs": [
    {
     "name": "stdout",
     "output_type": "stream",
     "text": [
      " Volume in drive D is Other Disk\n",
      " Volume Serial Number is 4ADB-A0D6\n",
      "\n",
      " Directory of D:\\Installed\\yolov7\n",
      "\n",
      "14-Oct-24  17:44    <DIR>          .\n",
      "14-Oct-24  17:44    <DIR>          ..\n",
      "14-Oct-24  17:44             4,325 .gitignore\n",
      "14-Oct-24  17:44    <DIR>          cfg\n",
      "14-Oct-24  17:44    <DIR>          data\n",
      "14-Oct-24  17:44    <DIR>          deploy\n",
      "14-Oct-24  17:44             9,523 detect.py\n",
      "14-Oct-24  17:44             9,367 export.py\n",
      "14-Oct-24  17:44    <DIR>          figure\n",
      "14-Oct-24  17:44             3,680 hubconf.py\n",
      "14-Oct-24  17:44    <DIR>          inference\n",
      "14-Oct-24  17:44            35,823 LICENSE.md\n",
      "14-Oct-24  17:44    <DIR>          models\n",
      "14-Oct-24  17:44    <DIR>          paper\n",
      "14-Oct-24  17:44            15,056 README.md\n",
      "14-Oct-24  17:44               997 requirements.txt\n",
      "14-Oct-24  17:44    <DIR>          scripts\n",
      "14-Oct-24  17:44            17,634 test.py\n",
      "14-Oct-24  17:44    <DIR>          tools\n",
      "14-Oct-24  17:44            38,738 train.py\n",
      "14-Oct-24  17:44            38,134 train_aux.py\n",
      "14-Oct-24  17:44    <DIR>          utils\n",
      "              10 File(s)        173,277 bytes\n",
      "              12 Dir(s)  245,445,152,768 bytes free\n"
     ]
    }
   ],
   "source": [
    "%ls"
   ]
  },
  {
   "cell_type": "code",
   "execution_count": 13,
   "id": "ff778f38",
   "metadata": {
    "ExecuteTime": {
     "end_time": "2024-10-14T14:46:29.587021Z",
     "start_time": "2024-10-14T14:46:05.046498Z"
    }
   },
   "outputs": [
    {
     "name": "stdout",
     "output_type": "stream",
     "text": [
      "Requirement already satisfied: matplotlib>=3.2.2 in d:\\installed\\anaconda3\\lib\\site-packages (from -r requirements.txt (line 4)) (3.8.4)\n",
      "Collecting numpy<1.24.0,>=1.18.5 (from -r requirements.txt (line 5))\n",
      "  Downloading numpy-1.23.5.tar.gz (10.7 MB)\n",
      "     ---------------------------------------- 0.0/10.7 MB ? eta -:--:--\n",
      "     --------------------------------------- 0.0/10.7 MB 330.3 kB/s eta 0:00:33\n",
      "     --------------------------------------- 0.0/10.7 MB 393.8 kB/s eta 0:00:28\n",
      "     --------------------------------------- 0.1/10.7 MB 655.4 kB/s eta 0:00:17\n",
      "      --------------------------------------- 0.2/10.7 MB 1.1 MB/s eta 0:00:10\n",
      "     - -------------------------------------- 0.3/10.7 MB 1.4 MB/s eta 0:00:08\n",
      "     - -------------------------------------- 0.5/10.7 MB 1.9 MB/s eta 0:00:06\n",
      "     -- ------------------------------------- 0.8/10.7 MB 2.4 MB/s eta 0:00:05\n",
      "     ---- ----------------------------------- 1.3/10.7 MB 3.5 MB/s eta 0:00:03\n",
      "     ----- ---------------------------------- 1.6/10.7 MB 4.0 MB/s eta 0:00:03\n",
      "     ------- -------------------------------- 2.1/10.7 MB 4.7 MB/s eta 0:00:02\n",
      "     -------- ------------------------------- 2.2/10.7 MB 4.7 MB/s eta 0:00:02\n",
      "     -------- ------------------------------- 2.3/10.7 MB 4.2 MB/s eta 0:00:03\n",
      "     -------------- ------------------------- 3.8/10.7 MB 6.4 MB/s eta 0:00:02\n",
      "     ---------------- ----------------------- 4.3/10.7 MB 6.7 MB/s eta 0:00:01\n",
      "     ----------------- ---------------------- 4.8/10.7 MB 6.9 MB/s eta 0:00:01\n",
      "     ------------------- -------------------- 5.4/10.7 MB 7.3 MB/s eta 0:00:01\n",
      "     --------------------- ------------------ 5.9/10.7 MB 7.5 MB/s eta 0:00:01\n",
      "     ------------------------ --------------- 6.5/10.7 MB 7.8 MB/s eta 0:00:01\n",
      "     ------------------------- -------------- 7.0/10.7 MB 8.0 MB/s eta 0:00:01\n",
      "     ---------------------------- ----------- 7.6/10.7 MB 8.2 MB/s eta 0:00:01\n",
      "     ------------------------------ --------- 8.1/10.7 MB 8.4 MB/s eta 0:00:01\n",
      "     -------------------------------- ------- 8.7/10.7 MB 8.5 MB/s eta 0:00:01\n",
      "     ---------------------------------- ----- 9.3/10.7 MB 8.7 MB/s eta 0:00:01\n",
      "     ------------------------------------ --- 9.8/10.7 MB 8.8 MB/s eta 0:00:01\n",
      "     -------------------------------------- - 10.3/10.7 MB 9.9 MB/s eta 0:00:01\n",
      "     --------------------------------------  10.7/10.7 MB 11.1 MB/s eta 0:00:01\n",
      "     --------------------------------------- 10.7/10.7 MB 10.7 MB/s eta 0:00:00\n",
      "  Installing build dependencies: started\n",
      "  Installing build dependencies: finished with status 'done'\n",
      "  Getting requirements to build wheel: started\n",
      "  Getting requirements to build wheel: finished with status 'error'\n",
      "Note: you may need to restart the kernel to use updated packages.\n"
     ]
    },
    {
     "name": "stderr",
     "output_type": "stream",
     "text": [
      "  error: subprocess-exited-with-error\n",
      "  \n",
      "  Getting requirements to build wheel did not run successfully.\n",
      "  exit code: 1\n",
      "  \n",
      "  [33 lines of output]\n",
      "  Traceback (most recent call last):\n",
      "    File \"D:\\Installed\\anaconda3\\Lib\\site-packages\\pip\\_vendor\\pyproject_hooks\\_in_process\\_in_process.py\", line 353, in <module>\n",
      "      main()\n",
      "    File \"D:\\Installed\\anaconda3\\Lib\\site-packages\\pip\\_vendor\\pyproject_hooks\\_in_process\\_in_process.py\", line 335, in main\n",
      "      json_out['return_val'] = hook(**hook_input['kwargs'])\n",
      "                               ^^^^^^^^^^^^^^^^^^^^^^^^^^^^\n",
      "    File \"D:\\Installed\\anaconda3\\Lib\\site-packages\\pip\\_vendor\\pyproject_hooks\\_in_process\\_in_process.py\", line 112, in get_requires_for_build_wheel\n",
      "      backend = _build_backend()\n",
      "                ^^^^^^^^^^^^^^^^\n",
      "    File \"D:\\Installed\\anaconda3\\Lib\\site-packages\\pip\\_vendor\\pyproject_hooks\\_in_process\\_in_process.py\", line 77, in _build_backend\n",
      "      obj = import_module(mod_path)\n",
      "            ^^^^^^^^^^^^^^^^^^^^^^^\n",
      "    File \"D:\\Installed\\anaconda3\\Lib\\importlib\\__init__.py\", line 90, in import_module\n",
      "      return _bootstrap._gcd_import(name[level:], package, level)\n",
      "             ^^^^^^^^^^^^^^^^^^^^^^^^^^^^^^^^^^^^^^^^^^^^^^^^^^^^\n",
      "    File \"<frozen importlib._bootstrap>\", line 1387, in _gcd_import\n",
      "    File \"<frozen importlib._bootstrap>\", line 1360, in _find_and_load\n",
      "    File \"<frozen importlib._bootstrap>\", line 1310, in _find_and_load_unlocked\n",
      "    File \"<frozen importlib._bootstrap>\", line 488, in _call_with_frames_removed\n",
      "    File \"<frozen importlib._bootstrap>\", line 1387, in _gcd_import\n",
      "    File \"<frozen importlib._bootstrap>\", line 1360, in _find_and_load\n",
      "    File \"<frozen importlib._bootstrap>\", line 1331, in _find_and_load_unlocked\n",
      "    File \"<frozen importlib._bootstrap>\", line 935, in _load_unlocked\n",
      "    File \"<frozen importlib._bootstrap_external>\", line 995, in exec_module\n",
      "    File \"<frozen importlib._bootstrap>\", line 488, in _call_with_frames_removed\n",
      "    File \"C:\\Users\\Ilya\\AppData\\Local\\Temp\\pip-build-env-83y24rel\\overlay\\Lib\\site-packages\\setuptools\\__init__.py\", line 16, in <module>\n",
      "      import setuptools.version\n",
      "    File \"C:\\Users\\Ilya\\AppData\\Local\\Temp\\pip-build-env-83y24rel\\overlay\\Lib\\site-packages\\setuptools\\version.py\", line 1, in <module>\n",
      "      import pkg_resources\n",
      "    File \"C:\\Users\\Ilya\\AppData\\Local\\Temp\\pip-build-env-83y24rel\\overlay\\Lib\\site-packages\\pkg_resources\\__init__.py\", line 2172, in <module>\n",
      "      register_finder(pkgutil.ImpImporter, find_on_path)\n",
      "                      ^^^^^^^^^^^^^^^^^^^\n",
      "  AttributeError: module 'pkgutil' has no attribute 'ImpImporter'. Did you mean: 'zipimporter'?\n",
      "  [end of output]\n",
      "  \n",
      "  note: This error originates from a subprocess, and is likely not a problem with pip.\n",
      "error: subprocess-exited-with-error\n",
      "\n",
      "Getting requirements to build wheel did not run successfully.\n",
      "exit code: 1\n",
      "\n",
      "See above for output.\n",
      "\n",
      "note: This error originates from a subprocess, and is likely not a problem with pip.\n"
     ]
    }
   ],
   "source": [
    "pip install -r requirements.txt"
   ]
  },
  {
   "cell_type": "code",
   "execution_count": null,
   "id": "8b607487",
   "metadata": {},
   "outputs": [],
   "source": []
  }
 ],
 "metadata": {
  "kernelspec": {
   "display_name": "Python 3 (ipykernel)",
   "language": "python",
   "name": "python3"
  },
  "language_info": {
   "codemirror_mode": {
    "name": "ipython",
    "version": 3
   },
   "file_extension": ".py",
   "mimetype": "text/x-python",
   "name": "python",
   "nbconvert_exporter": "python",
   "pygments_lexer": "ipython3",
   "version": "3.12.3"
  }
 },
 "nbformat": 4,
 "nbformat_minor": 5
}
